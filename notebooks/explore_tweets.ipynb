{
 "cells": [
  {
   "cell_type": "code",
   "execution_count": 2,
   "metadata": {},
   "outputs": [
    {
     "name": "stdout",
     "output_type": "stream",
     "text": [
      "python is /Users/simonperrott/anaconda3/bin/python\r\n"
     ]
    }
   ],
   "source": [
    "!type python"
   ]
  },
  {
   "cell_type": "code",
   "execution_count": 3,
   "metadata": {},
   "outputs": [
    {
     "data": {
      "text/plain": [
       "'/Users/simonperrott/anaconda3/bin/python'"
      ]
     },
     "execution_count": 3,
     "metadata": {},
     "output_type": "execute_result"
    }
   ],
   "source": [
    "import sys\n",
    "sys.executable"
   ]
  },
  {
   "cell_type": "code",
   "execution_count": 2,
   "metadata": {},
   "outputs": [],
   "source": [
    "import numpy as np\n",
    "import pandas as pd\n",
    "from datetime import datetime, timezone\n",
    "import dateutil.parser\n",
    "import dateutil.tz"
   ]
  },
  {
   "cell_type": "code",
   "execution_count": 7,
   "metadata": {},
   "outputs": [
    {
     "data": {
      "text/plain": [
       "'/Users/simonperrott/PycharmProjects/learning/nlp/notebooks'"
      ]
     },
     "execution_count": 7,
     "metadata": {},
     "output_type": "execute_result"
    }
   ],
   "source": [
    "pwd"
   ]
  },
  {
   "cell_type": "code",
   "execution_count": 8,
   "metadata": {},
   "outputs": [
    {
     "data": {
      "text/html": [
       "<div>\n",
       "<style scoped>\n",
       "    .dataframe tbody tr th:only-of-type {\n",
       "        vertical-align: middle;\n",
       "    }\n",
       "\n",
       "    .dataframe tbody tr th {\n",
       "        vertical-align: top;\n",
       "    }\n",
       "\n",
       "    .dataframe thead th {\n",
       "        text-align: right;\n",
       "    }\n",
       "</style>\n",
       "<table border=\"1\" class=\"dataframe\">\n",
       "  <thead>\n",
       "    <tr style=\"text-align: right;\">\n",
       "      <th></th>\n",
       "      <th>Id</th>\n",
       "      <th>Author</th>\n",
       "      <th>Date</th>\n",
       "      <th>Text</th>\n",
       "    </tr>\n",
       "    <tr>\n",
       "      <th>Target</th>\n",
       "      <th></th>\n",
       "      <th></th>\n",
       "      <th></th>\n",
       "      <th></th>\n",
       "    </tr>\n",
       "  </thead>\n",
       "  <tbody>\n",
       "    <tr>\n",
       "      <th>0</th>\n",
       "      <td>800000</td>\n",
       "      <td>800000</td>\n",
       "      <td>800000</td>\n",
       "      <td>800000</td>\n",
       "    </tr>\n",
       "    <tr>\n",
       "      <th>4</th>\n",
       "      <td>800000</td>\n",
       "      <td>800000</td>\n",
       "      <td>800000</td>\n",
       "      <td>800000</td>\n",
       "    </tr>\n",
       "  </tbody>\n",
       "</table>\n",
       "</div>"
      ],
      "text/plain": [
       "            Id  Author    Date    Text\n",
       "Target                                \n",
       "0       800000  800000  800000  800000\n",
       "4       800000  800000  800000  800000"
      ]
     },
     "execution_count": 8,
     "metadata": {},
     "output_type": "execute_result"
    }
   ],
   "source": [
    "cols_to_use = ['Id', 'Author', 'Date', 'Text', 'Target']\n",
    "training_data = pd.read_csv('../data/twitter/training.csv'\n",
    "                            , encoding = \"ISO-8859-1\"\n",
    "                            # , nrows=1000\n",
    "                            , header=None\n",
    "                            , names=['Target', 'Id', 'Date', 'flag', 'Author', 'Text']\n",
    "                           , usecols=cols_to_use)[cols_to_use]\n",
    "training_data.groupby('Target').count()"
   ]
  },
  {
   "cell_type": "code",
   "execution_count": 24,
   "metadata": {},
   "outputs": [
    {
     "name": "stderr",
     "output_type": "stream",
     "text": [
      "FutureWarning: Passing a negative integer is deprecated in version 1.0 and will not be supported in future version. Instead, use None to not limit the column width.\n"
     ]
    },
    {
     "data": {
      "text/plain": [
       "800000    I LOVE @Health4UandPets u guys r the best!!                                                                                              \n",
       "800001    im meeting up with one of my besties tonight! Cant wait!!  - GIRL TALK!!                                                                 \n",
       "800002    @DaRealSunisaKim Thanks for the Twitter add, Sunisa! I got to meet you once at a HIN show here in the DC area and you were a sweetheart. \n",
       "800003    Being sick can be really cheap when it hurts too much to eat real food  Plus, your friends make you soup                                 \n",
       "800004    @LovesBrooklyn2 he has that effect on everyone                                                                                           \n",
       "800005    @ProductOfFear You can tell him that I just burst out laughing really loud because of that  Thanks for making me come out of my sulk!    \n",
       "800006    @r_keith_hill Thans for your response. Ihad already find this answer                                                                     \n",
       "800007    @KeepinUpWKris I am so jealous, hope you had a great time in vegas! how did you like the ACM's?! LOVE YOUR SHOW!!                        \n",
       "800008    @tommcfly ah, congrats mr fletcher for finally joining twitter                                                                           \n",
       "800009    @e4VoIP I RESPONDED  Stupid cat is helping me type. Forgive errors                                                                       \n",
       "Name: Text, dtype: object"
      ]
     },
     "execution_count": 24,
     "metadata": {},
     "output_type": "execute_result"
    }
   ],
   "source": [
    "pd.set_option('display.max_colwidth', -1)\n",
    "training_data[training_data['Target'] == 4].Text.head(10)"
   ]
  },
  {
   "cell_type": "code",
   "execution_count": 25,
   "metadata": {},
   "outputs": [
    {
     "data": {
      "text/plain": [
       "0    @switchfoot http://twitpic.com/2y1zl - Awww, that's a bummer.  You shoulda got David Carr of Third Day to do it. ;D\n",
       "1    is upset that he can't update his Facebook by texting it... and might cry as a result  School today also. Blah!    \n",
       "2    @Kenichan I dived many times for the ball. Managed to save 50%  The rest go out of bounds                          \n",
       "3    my whole body feels itchy and like its on fire                                                                     \n",
       "4    @nationwideclass no, it's not behaving at all. i'm mad. why am i here? because I can't see you all over there.     \n",
       "5    @Kwesidei not the whole crew                                                                                       \n",
       "6    Need a hug                                                                                                         \n",
       "7    @LOLTrish hey  long time no see! Yes.. Rains a bit ,only a bit  LOL , I'm fine thanks , how's you ?                \n",
       "8    @Tatiana_K nope they didn't have it                                                                                \n",
       "9    @twittera que me muera ?                                                                                           \n",
       "Name: Text, dtype: object"
      ]
     },
     "execution_count": 25,
     "metadata": {},
     "output_type": "execute_result"
    }
   ],
   "source": [
    "training_data[training_data['Target'] == 0].Text.head(10)"
   ]
  },
  {
   "cell_type": "code",
   "execution_count": 8,
   "metadata": {},
   "outputs": [
    {
     "name": "stdout",
     "output_type": "stream",
     "text": [
      "(4151, 4)\n"
     ]
    },
    {
     "data": {
      "text/plain": [
       "0     RT @10DowningStreet: \"We will do whatever it t...\n",
       "1     RT @10DowningStreet: Update on the government'...\n",
       "2     RT @10DowningStreet: WATCH LIVE: PM @BorisJohn...\n",
       "3     Use these trusted sources of information for t...\n",
       "4     Today the government has updated its travel gu...\n",
       "                            ...                        \n",
       "95    As we embark on a new chapter, let's come toge...\n",
       "96    Tonight we have left the EU - an extraordinary...\n",
       "97    RT @10DowningStreet: WATCH LIVE: We are counti...\n",
       "98    Tonight we are leaving the European Union. htt...\n",
       "99    RT @10DowningStreet: PM @BorisJohnson chaired ...\n",
       "Name: Text, Length: 100, dtype: object"
      ]
     },
     "execution_count": 8,
     "metadata": {},
     "output_type": "execute_result"
    }
   ],
   "source": [
    "data = pd.read_csv('data/twitter/tweets.csv')\n",
    "threshold_date = datetime(2019, 12, 10, 0, 0, 0) #, tzinfo=timezone.utc)\n",
    "data.Date = data.Date.apply(lambda x: dateutil.parser.parse(x))\n",
    "tweets = data[(data.Date > threshold_date) & (data.Author != '@DrTedros')]\n",
    "print(tweets.shape)\n",
    "tweets.Text.head(100)"
   ]
  },
  {
   "cell_type": "code",
   "execution_count": 6,
   "metadata": {},
   "outputs": [
    {
     "name": "stdout",
     "output_type": "stream",
     "text": [
      "Since 10/12/2019:\n",
      "\n",
      "@BorisJohnson: 48 covid tweets / 327 tweets (12.8 %)\n",
      "first mention on: 18/02/2020\n",
      "\n",
      "@LeoVaradkar: 43 covid tweets / 347 tweets (11.0 %)\n",
      "first mention on: 13/02/2020\n",
      "\n",
      "@realDonaldTrump: 167 covid tweets / 3212 tweets (4.9 %)\n",
      "first mention on: 24/01/2020\n",
      "\n"
     ]
    }
   ],
   "source": [
    "search_terms = ['corona', 'covid']\n",
    "grp = tweets.groupby(tweets.Author)\n",
    "print(\"Since {0}:\".format(tweets.Date.min().strftime(\"%d/%m/%Y\")))\n",
    "print()\n",
    "for name, g in grp:\n",
    "    covid_tweets = g[g.Text.str.contains('|'.join(search_terms), case=False)]\n",
    "    regular_tweets = g[g.Text.str.contains('|'.join(search_terms), case=False) == False]\n",
    "    first_mention = covid_tweets.Date.min().strftime(\"%d/%m/%Y\")\n",
    "    number_mentions = covid_tweets.Id.count()\n",
    "    perc_mention = (100 * number_mentions / g.Id.count()).round(1)\n",
    "    print('{0}: {1} covid tweets / {2} tweets ({3} %)'.format(name, number_mentions, regular_tweets.Id.count(), perc_mention)) \n",
    "    print('first mention on: {0}'.format(first_mention))\n",
    "    print()"
   ]
  },
  {
   "cell_type": "code",
   "execution_count": null,
   "metadata": {},
   "outputs": [],
   "source": []
  }
 ],
 "metadata": {
  "kernelspec": {
   "display_name": "Python 3",
   "language": "python",
   "name": "python3"
  },
  "language_info": {
   "codemirror_mode": {
    "name": "ipython",
    "version": 3
   },
   "file_extension": ".py",
   "mimetype": "text/x-python",
   "name": "python",
   "nbconvert_exporter": "python",
   "pygments_lexer": "ipython3",
   "version": "3.6.9"
  }
 },
 "nbformat": 4,
 "nbformat_minor": 2
}

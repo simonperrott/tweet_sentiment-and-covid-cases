{
 "cells": [
  {
   "cell_type": "code",
   "execution_count": 2,
   "metadata": {},
   "outputs": [
    {
     "name": "stdout",
     "output_type": "stream",
     "text": [
      "python is /Users/simonperrott/anaconda3/bin/python\r\n"
     ]
    }
   ],
   "source": [
    "!type python"
   ]
  },
  {
   "cell_type": "code",
   "execution_count": 3,
   "metadata": {},
   "outputs": [
    {
     "data": {
      "text/plain": [
       "'/Users/simonperrott/anaconda3/bin/python'"
      ]
     },
     "execution_count": 3,
     "metadata": {},
     "output_type": "execute_result"
    }
   ],
   "source": [
    "import sys\n",
    "sys.executable"
   ]
  },
  {
   "cell_type": "code",
   "execution_count": 2,
   "metadata": {},
   "outputs": [],
   "source": [
    "import numpy as np\n",
    "import pandas as pd"
   ]
  },
  {
   "cell_type": "code",
   "execution_count": 7,
   "metadata": {},
   "outputs": [
    {
     "data": {
      "text/plain": [
       "'/Users/simonperrott/PycharmProjects/learning/nlp/notebooks'"
      ]
     },
     "execution_count": 7,
     "metadata": {},
     "output_type": "execute_result"
    }
   ],
   "source": [
    "pwd"
   ]
  },
  {
   "cell_type": "code",
   "execution_count": 95,
   "metadata": {},
   "outputs": [],
   "source": [
    "airline_tweets = pd.read_csv('../data/twitter/training/airline_tweets.csv'\n",
    "                    , usecols=['tweet_id', 'text', 'airline_sentiment'])"
   ]
  },
  {
   "cell_type": "code",
   "execution_count": 102,
   "metadata": {},
   "outputs": [
    {
     "data": {
      "text/html": [
       "<div>\n",
       "<style scoped>\n",
       "    .dataframe tbody tr th:only-of-type {\n",
       "        vertical-align: middle;\n",
       "    }\n",
       "\n",
       "    .dataframe tbody tr th {\n",
       "        vertical-align: top;\n",
       "    }\n",
       "\n",
       "    .dataframe thead th {\n",
       "        text-align: right;\n",
       "    }\n",
       "</style>\n",
       "<table border=\"1\" class=\"dataframe\">\n",
       "  <thead>\n",
       "    <tr style=\"text-align: right;\">\n",
       "      <th></th>\n",
       "      <th>tweet_id</th>\n",
       "      <th>text</th>\n",
       "      <th>sentiment</th>\n",
       "    </tr>\n",
       "  </thead>\n",
       "  <tbody>\n",
       "    <tr>\n",
       "      <th>0</th>\n",
       "      <td>570306133677760513</td>\n",
       "      <td>@VirginAmerica What @dhepburn said.</td>\n",
       "      <td>0</td>\n",
       "    </tr>\n",
       "    <tr>\n",
       "      <th>1</th>\n",
       "      <td>570301130888122368</td>\n",
       "      <td>@VirginAmerica plus you've added commercials t...</td>\n",
       "      <td>1</td>\n",
       "    </tr>\n",
       "    <tr>\n",
       "      <th>2</th>\n",
       "      <td>570301083672813571</td>\n",
       "      <td>@VirginAmerica I didn't today... Must mean I n...</td>\n",
       "      <td>0</td>\n",
       "    </tr>\n",
       "    <tr>\n",
       "      <th>3</th>\n",
       "      <td>570301031407624196</td>\n",
       "      <td>@VirginAmerica it's really aggressive to blast...</td>\n",
       "      <td>-1</td>\n",
       "    </tr>\n",
       "    <tr>\n",
       "      <th>4</th>\n",
       "      <td>570300817074462722</td>\n",
       "      <td>@VirginAmerica and it's a really big bad thing...</td>\n",
       "      <td>-1</td>\n",
       "    </tr>\n",
       "  </tbody>\n",
       "</table>\n",
       "</div>"
      ],
      "text/plain": [
       "             tweet_id                                               text  \\\n",
       "0  570306133677760513                @VirginAmerica What @dhepburn said.   \n",
       "1  570301130888122368  @VirginAmerica plus you've added commercials t...   \n",
       "2  570301083672813571  @VirginAmerica I didn't today... Must mean I n...   \n",
       "3  570301031407624196  @VirginAmerica it's really aggressive to blast...   \n",
       "4  570300817074462722  @VirginAmerica and it's a really big bad thing...   \n",
       "\n",
       "   sentiment  \n",
       "0          0  \n",
       "1          1  \n",
       "2          0  \n",
       "3         -1  \n",
       "4         -1  "
      ]
     },
     "execution_count": 102,
     "metadata": {},
     "output_type": "execute_result"
    }
   ],
   "source": [
    "airline_tweets.head()"
   ]
  },
  {
   "cell_type": "code",
   "execution_count": 97,
   "metadata": {},
   "outputs": [],
   "source": [
    "def standardise_sentiment_labels(column_value):\n",
    "    dict_of_labels = {\n",
    "        0: -1,\n",
    "        \"negative\": -1,\n",
    "        2: 0,\n",
    "        \"neutral\": 0,\n",
    "        4: +1,\n",
    "        \"positive\": +1\n",
    "    }\n",
    "    return dict_of_labels[column_value]"
   ]
  },
  {
   "cell_type": "code",
   "execution_count": 103,
   "metadata": {},
   "outputs": [
    {
     "ename": "AttributeError",
     "evalue": "'DataFrame' object has no attribute 'airline_sentiment'",
     "output_type": "error",
     "traceback": [
      "\u001b[0;31m---------------------------------------------------------------------------\u001b[0m",
      "\u001b[0;31mAttributeError\u001b[0m                            Traceback (most recent call last)",
      "\u001b[0;32m<ipython-input-103-6327760271ee>\u001b[0m in \u001b[0;36m<module>\u001b[0;34m\u001b[0m\n\u001b[0;32m----> 1\u001b[0;31m \u001b[0mairline_tweets\u001b[0m\u001b[0;34m[\u001b[0m\u001b[0;34m'sentiment'\u001b[0m\u001b[0;34m]\u001b[0m \u001b[0;34m=\u001b[0m \u001b[0mairline_tweets\u001b[0m\u001b[0;34m.\u001b[0m\u001b[0mairline_sentiment\u001b[0m\u001b[0;34m.\u001b[0m\u001b[0mapply\u001b[0m\u001b[0;34m(\u001b[0m\u001b[0mstandardise_sentiment_labels\u001b[0m\u001b[0;34m)\u001b[0m\u001b[0;34m\u001b[0m\u001b[0;34m\u001b[0m\u001b[0m\n\u001b[0m\u001b[1;32m      2\u001b[0m \u001b[0mairline_tweets\u001b[0m\u001b[0;34m.\u001b[0m\u001b[0mdrop\u001b[0m\u001b[0;34m(\u001b[0m\u001b[0;34m'airline_sentiment'\u001b[0m\u001b[0;34m,\u001b[0m \u001b[0maxis\u001b[0m\u001b[0;34m=\u001b[0m \u001b[0;36m1\u001b[0m\u001b[0;34m,\u001b[0m \u001b[0minplace\u001b[0m\u001b[0;34m=\u001b[0m\u001b[0;32mTrue\u001b[0m\u001b[0;34m)\u001b[0m\u001b[0;34m\u001b[0m\u001b[0;34m\u001b[0m\u001b[0m\n\u001b[1;32m      3\u001b[0m \u001b[0mairline_tweets\u001b[0m\u001b[0;34m.\u001b[0m\u001b[0mgroupby\u001b[0m\u001b[0;34m(\u001b[0m\u001b[0mairline_tweets\u001b[0m\u001b[0;34m.\u001b[0m\u001b[0msentiment\u001b[0m\u001b[0;34m)\u001b[0m\u001b[0;34m.\u001b[0m\u001b[0mcount\u001b[0m\u001b[0;34m(\u001b[0m\u001b[0;34m)\u001b[0m\u001b[0;34m\u001b[0m\u001b[0;34m\u001b[0m\u001b[0m\n",
      "\u001b[0;32m~/anaconda3/lib/python3.6/site-packages/pandas/core/generic.py\u001b[0m in \u001b[0;36m__getattr__\u001b[0;34m(self, name)\u001b[0m\n\u001b[1;32m   5272\u001b[0m             \u001b[0;32mif\u001b[0m \u001b[0mself\u001b[0m\u001b[0;34m.\u001b[0m\u001b[0m_info_axis\u001b[0m\u001b[0;34m.\u001b[0m\u001b[0m_can_hold_identifiers_and_holds_name\u001b[0m\u001b[0;34m(\u001b[0m\u001b[0mname\u001b[0m\u001b[0;34m)\u001b[0m\u001b[0;34m:\u001b[0m\u001b[0;34m\u001b[0m\u001b[0;34m\u001b[0m\u001b[0m\n\u001b[1;32m   5273\u001b[0m                 \u001b[0;32mreturn\u001b[0m \u001b[0mself\u001b[0m\u001b[0;34m[\u001b[0m\u001b[0mname\u001b[0m\u001b[0;34m]\u001b[0m\u001b[0;34m\u001b[0m\u001b[0;34m\u001b[0m\u001b[0m\n\u001b[0;32m-> 5274\u001b[0;31m             \u001b[0;32mreturn\u001b[0m \u001b[0mobject\u001b[0m\u001b[0;34m.\u001b[0m\u001b[0m__getattribute__\u001b[0m\u001b[0;34m(\u001b[0m\u001b[0mself\u001b[0m\u001b[0;34m,\u001b[0m \u001b[0mname\u001b[0m\u001b[0;34m)\u001b[0m\u001b[0;34m\u001b[0m\u001b[0;34m\u001b[0m\u001b[0m\n\u001b[0m\u001b[1;32m   5275\u001b[0m \u001b[0;34m\u001b[0m\u001b[0m\n\u001b[1;32m   5276\u001b[0m     \u001b[0;32mdef\u001b[0m \u001b[0m__setattr__\u001b[0m\u001b[0;34m(\u001b[0m\u001b[0mself\u001b[0m\u001b[0;34m,\u001b[0m \u001b[0mname\u001b[0m\u001b[0;34m:\u001b[0m \u001b[0mstr\u001b[0m\u001b[0;34m,\u001b[0m \u001b[0mvalue\u001b[0m\u001b[0;34m)\u001b[0m \u001b[0;34m->\u001b[0m \u001b[0;32mNone\u001b[0m\u001b[0;34m:\u001b[0m\u001b[0;34m\u001b[0m\u001b[0;34m\u001b[0m\u001b[0m\n",
      "\u001b[0;31mAttributeError\u001b[0m: 'DataFrame' object has no attribute 'airline_sentiment'"
     ]
    }
   ],
   "source": [
    "airline_tweets['sentiment'] = airline_tweets.airline_sentiment.apply(standardise_sentiment_labels)\n",
    "airline_tweets.drop('airline_sentiment', axis= 1, inplace=True)"
   ]
  },
  {
   "cell_type": "code",
   "execution_count": 104,
   "metadata": {},
   "outputs": [
    {
     "data": {
      "text/html": [
       "<div>\n",
       "<style scoped>\n",
       "    .dataframe tbody tr th:only-of-type {\n",
       "        vertical-align: middle;\n",
       "    }\n",
       "\n",
       "    .dataframe tbody tr th {\n",
       "        vertical-align: top;\n",
       "    }\n",
       "\n",
       "    .dataframe thead th {\n",
       "        text-align: right;\n",
       "    }\n",
       "</style>\n",
       "<table border=\"1\" class=\"dataframe\">\n",
       "  <thead>\n",
       "    <tr style=\"text-align: right;\">\n",
       "      <th></th>\n",
       "      <th>tweet_id</th>\n",
       "      <th>text</th>\n",
       "    </tr>\n",
       "    <tr>\n",
       "      <th>sentiment</th>\n",
       "      <th></th>\n",
       "      <th></th>\n",
       "    </tr>\n",
       "  </thead>\n",
       "  <tbody>\n",
       "    <tr>\n",
       "      <th>-1</th>\n",
       "      <td>9178</td>\n",
       "      <td>9178</td>\n",
       "    </tr>\n",
       "    <tr>\n",
       "      <th>0</th>\n",
       "      <td>3099</td>\n",
       "      <td>3099</td>\n",
       "    </tr>\n",
       "    <tr>\n",
       "      <th>1</th>\n",
       "      <td>2363</td>\n",
       "      <td>2363</td>\n",
       "    </tr>\n",
       "  </tbody>\n",
       "</table>\n",
       "</div>"
      ],
      "text/plain": [
       "           tweet_id  text\n",
       "sentiment                \n",
       "-1             9178  9178\n",
       " 0             3099  3099\n",
       " 1             2363  2363"
      ]
     },
     "execution_count": 104,
     "metadata": {},
     "output_type": "execute_result"
    }
   ],
   "source": [
    "airline_tweets.groupby(airline_tweets.sentiment).count()"
   ]
  },
  {
   "cell_type": "code",
   "execution_count": 73,
   "metadata": {},
   "outputs": [
    {
     "data": {
      "text/html": [
       "<div>\n",
       "<style scoped>\n",
       "    .dataframe tbody tr th:only-of-type {\n",
       "        vertical-align: middle;\n",
       "    }\n",
       "\n",
       "    .dataframe tbody tr th {\n",
       "        vertical-align: top;\n",
       "    }\n",
       "\n",
       "    .dataframe thead th {\n",
       "        text-align: right;\n",
       "    }\n",
       "</style>\n",
       "<table border=\"1\" class=\"dataframe\">\n",
       "  <thead>\n",
       "    <tr style=\"text-align: right;\">\n",
       "      <th></th>\n",
       "      <th>tweet_id</th>\n",
       "      <th>airline_sentiment</th>\n",
       "      <th>text</th>\n",
       "    </tr>\n",
       "  </thead>\n",
       "  <tbody>\n",
       "    <tr>\n",
       "      <th>0</th>\n",
       "      <td>569644350906310657</td>\n",
       "      <td>negative</td>\n",
       "      <td>@SouthwestAir now I can't board thanks. You gu...</td>\n",
       "    </tr>\n",
       "    <tr>\n",
       "      <th>1</th>\n",
       "      <td>570102708734197760</td>\n",
       "      <td>negative</td>\n",
       "      <td>@JetBlue the worst flying experience I've ever...</td>\n",
       "    </tr>\n",
       "    <tr>\n",
       "      <th>2</th>\n",
       "      <td>569769708569767936</td>\n",
       "      <td>negative</td>\n",
       "      <td>@united Now about two dozen back in line to se...</td>\n",
       "    </tr>\n",
       "    <tr>\n",
       "      <th>3</th>\n",
       "      <td>569751096580812801</td>\n",
       "      <td>negative</td>\n",
       "      <td>@united doesn't help the 100 or more passenger...</td>\n",
       "    </tr>\n",
       "    <tr>\n",
       "      <th>4</th>\n",
       "      <td>569960010249334784</td>\n",
       "      <td>negative</td>\n",
       "      <td>@JetBlue We had some major plane-wide DirectTV...</td>\n",
       "    </tr>\n",
       "    <tr>\n",
       "      <th>...</th>\n",
       "      <td>...</td>\n",
       "      <td>...</td>\n",
       "      <td>...</td>\n",
       "    </tr>\n",
       "    <tr>\n",
       "      <th>7084</th>\n",
       "      <td>568803231335387137</td>\n",
       "      <td>positive</td>\n",
       "      <td>@united Thanks! Just DMed HN.</td>\n",
       "    </tr>\n",
       "    <tr>\n",
       "      <th>7085</th>\n",
       "      <td>568076081665679360</td>\n",
       "      <td>positive</td>\n",
       "      <td>@SouthwestAir OH MY GOSH SERIOUSLY?! you just ...</td>\n",
       "    </tr>\n",
       "    <tr>\n",
       "      <th>7086</th>\n",
       "      <td>568950850615316480</td>\n",
       "      <td>positive</td>\n",
       "      <td>@united I may not hit any new status this year...</td>\n",
       "    </tr>\n",
       "    <tr>\n",
       "      <th>7087</th>\n",
       "      <td>569596778426855426</td>\n",
       "      <td>positive</td>\n",
       "      <td>@SouthwestAir - just got it back about 20 mins...</td>\n",
       "    </tr>\n",
       "    <tr>\n",
       "      <th>7088</th>\n",
       "      <td>569667246026416130</td>\n",
       "      <td>positive</td>\n",
       "      <td>@SouthwestAir got mine!  Just in time for the ...</td>\n",
       "    </tr>\n",
       "  </tbody>\n",
       "</table>\n",
       "<p>7089 rows × 3 columns</p>\n",
       "</div>"
      ],
      "text/plain": [
       "                tweet_id airline_sentiment  \\\n",
       "0     569644350906310657          negative   \n",
       "1     570102708734197760          negative   \n",
       "2     569769708569767936          negative   \n",
       "3     569751096580812801          negative   \n",
       "4     569960010249334784          negative   \n",
       "...                  ...               ...   \n",
       "7084  568803231335387137          positive   \n",
       "7085  568076081665679360          positive   \n",
       "7086  568950850615316480          positive   \n",
       "7087  569596778426855426          positive   \n",
       "7088  569667246026416130          positive   \n",
       "\n",
       "                                                   text  \n",
       "0     @SouthwestAir now I can't board thanks. You gu...  \n",
       "1     @JetBlue the worst flying experience I've ever...  \n",
       "2     @united Now about two dozen back in line to se...  \n",
       "3     @united doesn't help the 100 or more passenger...  \n",
       "4     @JetBlue We had some major plane-wide DirectTV...  \n",
       "...                                                 ...  \n",
       "7084                      @united Thanks! Just DMed HN.  \n",
       "7085  @SouthwestAir OH MY GOSH SERIOUSLY?! you just ...  \n",
       "7086  @united I may not hit any new status this year...  \n",
       "7087  @SouthwestAir - just got it back about 20 mins...  \n",
       "7088  @SouthwestAir got mine!  Just in time for the ...  \n",
       "\n",
       "[7089 rows x 3 columns]"
      ]
     },
     "execution_count": 73,
     "metadata": {},
     "output_type": "execute_result"
    }
   ],
   "source": [
    "# take the same number of positive, neutral & negative tweets into my training corpus.\n",
    "balanced_tweets = []\n",
    "balanced_tweets = tweets.groupby(tweets.airline_sentiment).apply(lambda x: x.sample(n=2363))\n",
    "balanced_tweets = balanced_tweets.reset_index(drop=True)\n",
    "balanced_tweets"
   ]
  },
  {
   "cell_type": "code",
   "execution_count": 105,
   "metadata": {},
   "outputs": [],
   "source": [
    "semeval_tweets = pd.read_csv('../data/twitter/training/semeval_tweets_2016_taskA.csv'\n",
    "                    , sep='\\t'\n",
    "                    , header=None\n",
    "                    , names=['tweet_id', 'label', 'text']\n",
    "                    )"
   ]
  },
  {
   "cell_type": "code",
   "execution_count": 107,
   "metadata": {},
   "outputs": [
    {
     "name": "stdout",
     "output_type": "stream",
     "text": [
      "             tweet_id     label  \\\n",
      "0  628949369883000832  negative   \n",
      "1  628976607420645377  negative   \n",
      "2  629023169169518592  negative   \n",
      "3  629179223232479232  negative   \n",
      "4  629186282179153920   neutral   \n",
      "\n",
      "                                                text  sentiment  \n",
      "0  dear @Microsoft the newOoffice for Mac is grea...         -1  \n",
      "1  @Microsoft how about you make a system that do...         -1  \n",
      "2  I may be ignorant on this issue but... should ...         -1  \n",
      "3  Thanks to @microsoft, I just may be switching ...         -1  \n",
      "4  If I make a game as a #windows10 Universal App...          0  \n"
     ]
    }
   ],
   "source": [
    "semeval_tweets['sentiment'] = semeval_tweets.label.apply(standardise_sentiment_labels)\n",
    "print(semeval_tweets.head())\n",
    "semeval_tweets.drop('label', axis= 1, inplace=True)"
   ]
  },
  {
   "cell_type": "code",
   "execution_count": 109,
   "metadata": {},
   "outputs": [
    {
     "data": {
      "text/html": [
       "<div>\n",
       "<style scoped>\n",
       "    .dataframe tbody tr th:only-of-type {\n",
       "        vertical-align: middle;\n",
       "    }\n",
       "\n",
       "    .dataframe tbody tr th {\n",
       "        vertical-align: top;\n",
       "    }\n",
       "\n",
       "    .dataframe thead th {\n",
       "        text-align: right;\n",
       "    }\n",
       "</style>\n",
       "<table border=\"1\" class=\"dataframe\">\n",
       "  <thead>\n",
       "    <tr style=\"text-align: right;\">\n",
       "      <th></th>\n",
       "      <th>tweet_id</th>\n",
       "      <th>text</th>\n",
       "    </tr>\n",
       "    <tr>\n",
       "      <th>sentiment</th>\n",
       "      <th></th>\n",
       "      <th></th>\n",
       "    </tr>\n",
       "  </thead>\n",
       "  <tbody>\n",
       "    <tr>\n",
       "      <th>-1</th>\n",
       "      <td>850</td>\n",
       "      <td>850</td>\n",
       "    </tr>\n",
       "    <tr>\n",
       "      <th>0</th>\n",
       "      <td>2001</td>\n",
       "      <td>2001</td>\n",
       "    </tr>\n",
       "    <tr>\n",
       "      <th>1</th>\n",
       "      <td>3017</td>\n",
       "      <td>3017</td>\n",
       "    </tr>\n",
       "  </tbody>\n",
       "</table>\n",
       "</div>"
      ],
      "text/plain": [
       "           tweet_id  text\n",
       "sentiment                \n",
       "-1              850   850\n",
       " 0             2001  2001\n",
       " 1             3017  3017"
      ]
     },
     "execution_count": 109,
     "metadata": {},
     "output_type": "execute_result"
    }
   ],
   "source": [
    "semeval_tweets.groupby('sentiment').count()"
   ]
  },
  {
   "cell_type": "code",
   "execution_count": 116,
   "metadata": {},
   "outputs": [],
   "source": [
    "leader_tweets = pd.read_csv('../data/twitter/training/labelled_leader_tweets.csv'\n",
    "                           , usecols=['Id', \"Text\", 'Label']).rename(columns={\n",
    "    \"Text\":\"text\",\n",
    "    \"Id\":\"tweet_id\"\n",
    "})"
   ]
  },
  {
   "cell_type": "code",
   "execution_count": 117,
   "metadata": {},
   "outputs": [
    {
     "name": "stdout",
     "output_type": "stream",
     "text": [
      "              tweet_id                                               text  \\\n",
      "0  1251509657253920773  RT @ericastarling1: One year ago today our dar...   \n",
      "1  1251457526442401795  RT @simoncoveney: Last few days saw a lot of f...   \n",
      "2  1251357415045500928  An incompetent political hack! Come back to Wa...   \n",
      "3  1251356731478810624  This is a disgraceful situation! https://t.co/...   \n",
      "4  1251356147145232385  RT @charliekirk11: This is your daily reminder...   \n",
      "\n",
      "   Label  sentiment  \n",
      "0      4          1  \n",
      "1      0         -1  \n",
      "2      0         -1  \n",
      "3      0         -1  \n",
      "4      0         -1  \n"
     ]
    }
   ],
   "source": [
    "leader_tweets['sentiment'] = leader_tweets.Label.apply(standardise_sentiment_labels)\n",
    "print(leader_tweets.head())\n",
    "leader_tweets.drop('Label', axis= 1, inplace=True)"
   ]
  },
  {
   "cell_type": "code",
   "execution_count": 118,
   "metadata": {},
   "outputs": [
    {
     "data": {
      "text/html": [
       "<div>\n",
       "<style scoped>\n",
       "    .dataframe tbody tr th:only-of-type {\n",
       "        vertical-align: middle;\n",
       "    }\n",
       "\n",
       "    .dataframe tbody tr th {\n",
       "        vertical-align: top;\n",
       "    }\n",
       "\n",
       "    .dataframe thead th {\n",
       "        text-align: right;\n",
       "    }\n",
       "</style>\n",
       "<table border=\"1\" class=\"dataframe\">\n",
       "  <thead>\n",
       "    <tr style=\"text-align: right;\">\n",
       "      <th></th>\n",
       "      <th>tweet_id</th>\n",
       "      <th>text</th>\n",
       "    </tr>\n",
       "    <tr>\n",
       "      <th>sentiment</th>\n",
       "      <th></th>\n",
       "      <th></th>\n",
       "    </tr>\n",
       "  </thead>\n",
       "  <tbody>\n",
       "    <tr>\n",
       "      <th>-1</th>\n",
       "      <td>33</td>\n",
       "      <td>33</td>\n",
       "    </tr>\n",
       "    <tr>\n",
       "      <th>0</th>\n",
       "      <td>29</td>\n",
       "      <td>29</td>\n",
       "    </tr>\n",
       "    <tr>\n",
       "      <th>1</th>\n",
       "      <td>37</td>\n",
       "      <td>37</td>\n",
       "    </tr>\n",
       "  </tbody>\n",
       "</table>\n",
       "</div>"
      ],
      "text/plain": [
       "           tweet_id  text\n",
       "sentiment                \n",
       "-1               33    33\n",
       " 0               29    29\n",
       " 1               37    37"
      ]
     },
     "execution_count": 118,
     "metadata": {},
     "output_type": "execute_result"
    }
   ],
   "source": [
    "leader_tweets.groupby('sentiment').count()"
   ]
  },
  {
   "cell_type": "code",
   "execution_count": 135,
   "metadata": {},
   "outputs": [],
   "source": [
    "tweets = pd.concat([leader_tweets, semeval_tweets, airline_tweets])"
   ]
  },
  {
   "cell_type": "code",
   "execution_count": 136,
   "metadata": {},
   "outputs": [
    {
     "data": {
      "text/plain": [
       "sentiment\n",
       "-1    10061\n",
       " 0     5129\n",
       " 1     5417\n",
       "Name: sentiment, dtype: int64"
      ]
     },
     "execution_count": 136,
     "metadata": {},
     "output_type": "execute_result"
    }
   ],
   "source": [
    "tweets.groupby('sentiment').sentiment.count()"
   ]
  },
  {
   "cell_type": "code",
   "execution_count": 138,
   "metadata": {},
   "outputs": [
    {
     "data": {
      "text/plain": [
       "sentiment\n",
       "-1    5129\n",
       " 0    5129\n",
       " 1    5129\n",
       "Name: sentiment, dtype: int64"
      ]
     },
     "execution_count": 138,
     "metadata": {},
     "output_type": "execute_result"
    }
   ],
   "source": [
    "positive_tweets = tweets[tweets.sentiment == 1]\n",
    "neutral_tweets = tweets[tweets.sentiment == 0]\n",
    "negative_tweets = tweets[tweets.sentiment == -1]\n",
    "\n",
    "from sklearn.utils import shuffle\n",
    "\n",
    "positive_tweets = shuffle(positive_tweets)[:len(neutral_tweets)]\n",
    "negative_tweets = shuffle(negative_tweets)[:len(neutral_tweets)]\n",
    "\n",
    "training_data = pd.concat([positive_tweets, neutral_tweets, negative_tweets])\n",
    "training_data.groupby('sentiment').sentiment.count()"
   ]
  },
  {
   "cell_type": "code",
   "execution_count": 140,
   "metadata": {},
   "outputs": [
    {
     "data": {
      "text/html": [
       "<div>\n",
       "<style scoped>\n",
       "    .dataframe tbody tr th:only-of-type {\n",
       "        vertical-align: middle;\n",
       "    }\n",
       "\n",
       "    .dataframe tbody tr th {\n",
       "        vertical-align: top;\n",
       "    }\n",
       "\n",
       "    .dataframe thead th {\n",
       "        text-align: right;\n",
       "    }\n",
       "</style>\n",
       "<table border=\"1\" class=\"dataframe\">\n",
       "  <thead>\n",
       "    <tr style=\"text-align: right;\">\n",
       "      <th></th>\n",
       "      <th>tweet_id</th>\n",
       "      <th>text</th>\n",
       "      <th>sentiment</th>\n",
       "    </tr>\n",
       "  </thead>\n",
       "  <tbody>\n",
       "    <tr>\n",
       "      <th>999</th>\n",
       "      <td>641567237409783810</td>\n",
       "      <td>What a quality result that was beating Barca a...</td>\n",
       "      <td>1</td>\n",
       "    </tr>\n",
       "    <tr>\n",
       "      <th>11211</th>\n",
       "      <td>568423588077936640</td>\n",
       "      <td>@USAirways thanks for slowing the inbound plan...</td>\n",
       "      <td>1</td>\n",
       "    </tr>\n",
       "    <tr>\n",
       "      <th>5745</th>\n",
       "      <td>641469128990191616</td>\n",
       "      <td>And Argentina say Messi does nothing for the n...</td>\n",
       "      <td>1</td>\n",
       "    </tr>\n",
       "    <tr>\n",
       "      <th>2100</th>\n",
       "      <td>640575558313754625</td>\n",
       "      <td>It filled my heart with pride to see the huge ...</td>\n",
       "      <td>1</td>\n",
       "    </tr>\n",
       "    <tr>\n",
       "      <th>7705</th>\n",
       "      <td>569330782537437184</td>\n",
       "      <td>@JetBlue thanks for bringing my son home to me.</td>\n",
       "      <td>1</td>\n",
       "    </tr>\n",
       "  </tbody>\n",
       "</table>\n",
       "</div>"
      ],
      "text/plain": [
       "                 tweet_id                                               text  \\\n",
       "999    641567237409783810  What a quality result that was beating Barca a...   \n",
       "11211  568423588077936640  @USAirways thanks for slowing the inbound plan...   \n",
       "5745   641469128990191616  And Argentina say Messi does nothing for the n...   \n",
       "2100   640575558313754625  It filled my heart with pride to see the huge ...   \n",
       "7705   569330782537437184    @JetBlue thanks for bringing my son home to me.   \n",
       "\n",
       "       sentiment  \n",
       "999            1  \n",
       "11211          1  \n",
       "5745           1  \n",
       "2100           1  \n",
       "7705           1  "
      ]
     },
     "execution_count": 140,
     "metadata": {},
     "output_type": "execute_result"
    }
   ],
   "source": [
    "training_data.head()"
   ]
  },
  {
   "cell_type": "code",
   "execution_count": 141,
   "metadata": {},
   "outputs": [],
   "source": [
    "training_data.to_csv('../data/twitter/labelled_training_data.csv', index=False)"
   ]
  },
  {
   "cell_type": "code",
   "execution_count": 132,
   "metadata": {},
   "outputs": [
    {
     "data": {
      "text/html": [
       "<div>\n",
       "<style scoped>\n",
       "    .dataframe tbody tr th:only-of-type {\n",
       "        vertical-align: middle;\n",
       "    }\n",
       "\n",
       "    .dataframe tbody tr th {\n",
       "        vertical-align: top;\n",
       "    }\n",
       "\n",
       "    .dataframe thead th {\n",
       "        text-align: right;\n",
       "    }\n",
       "</style>\n",
       "<table border=\"1\" class=\"dataframe\">\n",
       "  <thead>\n",
       "    <tr style=\"text-align: right;\">\n",
       "      <th></th>\n",
       "      <th>Id</th>\n",
       "      <th>Author</th>\n",
       "      <th>Date</th>\n",
       "      <th>Text</th>\n",
       "    </tr>\n",
       "    <tr>\n",
       "      <th>Target</th>\n",
       "      <th></th>\n",
       "      <th></th>\n",
       "      <th></th>\n",
       "      <th></th>\n",
       "    </tr>\n",
       "  </thead>\n",
       "  <tbody>\n",
       "    <tr>\n",
       "      <th>0</th>\n",
       "      <td>800000</td>\n",
       "      <td>800000</td>\n",
       "      <td>800000</td>\n",
       "      <td>800000</td>\n",
       "    </tr>\n",
       "    <tr>\n",
       "      <th>4</th>\n",
       "      <td>800000</td>\n",
       "      <td>800000</td>\n",
       "      <td>800000</td>\n",
       "      <td>800000</td>\n",
       "    </tr>\n",
       "  </tbody>\n",
       "</table>\n",
       "</div>"
      ],
      "text/plain": [
       "            Id  Author    Date    Text\n",
       "Target                                \n",
       "0       800000  800000  800000  800000\n",
       "4       800000  800000  800000  800000"
      ]
     },
     "execution_count": 132,
     "metadata": {},
     "output_type": "execute_result"
    }
   ],
   "source": [
    "cols_to_use = ['Id', 'Author', 'Date', 'Text', 'Target']\n",
    "training_data = pd.read_csv('../data/twitter/training/kaggle140tweets_data.csv'\n",
    "                            , encoding = \"ISO-8859-1\"\n",
    "                            # , nrows=1000\n",
    "                            , header=None\n",
    "                            , names=['Target', 'Id', 'Date', 'flag', 'Author', 'Text']\n",
    "                           , usecols=cols_to_use)[cols_to_use]\n",
    "training_data.groupby('Target').count()"
   ]
  },
  {
   "cell_type": "code",
   "execution_count": null,
   "metadata": {},
   "outputs": [],
   "source": []
  }
 ],
 "metadata": {
  "kernelspec": {
   "display_name": "Python 3",
   "language": "python",
   "name": "python3"
  },
  "language_info": {
   "codemirror_mode": {
    "name": "ipython",
    "version": 3
   },
   "file_extension": ".py",
   "mimetype": "text/x-python",
   "name": "python",
   "nbconvert_exporter": "python",
   "pygments_lexer": "ipython3",
   "version": "3.6.9"
  }
 },
 "nbformat": 4,
 "nbformat_minor": 2
}
